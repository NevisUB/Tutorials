{
 "cells": [
  {
   "cell_type": "markdown",
   "metadata": {},
   "source": [
    "Include the usual suspects. Pandas, numpy, matplotlib, and the plotter pyplot"
   ]
  },
  {
   "cell_type": "code",
   "execution_count": null,
   "metadata": {
    "collapsed": false
   },
   "outputs": [],
   "source": [
    "import numpy as np\n",
    "import pandas as pd\n",
    "\n",
    "import matplotlib\n",
    "import matplotlib.pyplot as plt"
   ]
  },
  {
   "cell_type": "markdown",
   "metadata": {},
   "source": [
    "I almost exclusively use pandas to read common data file formats. Wes, the pandas developer, worked in finance for many years and claims in \"Python for Data Analysis\" book \n",
    "\n",
    "                  https://goo.gl/vbYvU0\n",
    "\n",
    "that wrangle the data into analysis format and from a variety of different input formats take a significant fraction of analysis time. A great example is missing data, for example a CSV the data missing. Wes spend a good amount of time developing the IO for pandas to be as flexible and as fast as possible to the variety of input data you may come across."
   ]
  },
  {
   "cell_type": "markdown",
   "metadata": {},
   "source": [
    "Anyways I really really really recommend this book and it will improve your analysis speed by <b>10</b> (ask me for it) it covers ...\n",
    "\n",
    "0) iPython\n",
    "1) numpy arrays and vectorized computation including a whole chapter on advanced numpy\n",
    "2) extensive pandas tutorial, data wrangling \n",
    "3) plotting and visualization\n",
    "4) data aggregation and group operations (very powerful),\n",
    "5) time series, and finance and economic data applications (hello finance people), \n",
    "6) data loading, storage from text files, database, web (even scraping!), HDF5, excel files (you might think this is lame but it's a really handy feature...), and pickle. \n",
    "\n",
    "\n",
    "I will just cover IO with text files and just show you that you can literally write the data to any of these formats with no effort."
   ]
  },
  {
   "cell_type": "markdown",
   "metadata": {},
   "source": [
    "Lots of data will come to you in a text file, which is really the lowest common denominator in terms of what raw data looks like to an analyzer. I guess binary data is even ``lower\" but someone will have to tell you what the dataformat actually is before you can read it. "
   ]
  },
  {
   "cell_type": "markdown",
   "metadata": {},
   "source": [
    "Go ahead and grab these data files from vic's public folder\n",
    "\n",
    "0) http://www.nevis.columbia.edu/~vgenty/public/C3silabs00001_DC.txt\n",
    "\n",
    "1) http://www.nevis.columbia.edu/~vgenty/public/C3Trace00001_DC.txt\n",
    "\n",
    "if you take a look inside"
   ]
  },
  {
   "cell_type": "code",
   "execution_count": null,
   "metadata": {
    "collapsed": false,
    "scrolled": true
   },
   "outputs": [],
   "source": [
    "!head C3Trace00001_DC.txt"
   ]
  },
  {
   "cell_type": "markdown",
   "metadata": {},
   "source": [
    "This text file is from a LeCroy oscillosope and contains a waveform from a single trigger. It also has a timestamp at the top of the file and some other garbage we don't care about. On the 5th line I see what the columns mean: Time and Voltage amplitude. This text file is nice it at least tells us what the columns mean."
   ]
  },
  {
   "cell_type": "markdown",
   "metadata": {},
   "source": [
    "Lets read this into pandas with read_csv"
   ]
  },
  {
   "cell_type": "code",
   "execution_count": null,
   "metadata": {
    "collapsed": false
   },
   "outputs": [],
   "source": [
    "pd.read_csv(\"C3Trace00001_DC.txt\")"
   ]
  },
  {
   "cell_type": "markdown",
   "metadata": {},
   "source": [
    "Wow, looks terrible, the header gave us some trouble. No matter, we can tell pandas to ignore this top part!"
   ]
  },
  {
   "cell_type": "code",
   "execution_count": null,
   "metadata": {
    "collapsed": false
   },
   "outputs": [],
   "source": [
    "pd.read_csv(\"C3Trace00001_DC.txt\",    #the file\n",
    "            sep=',',                  #how is the data separated, in this case it's a comma\n",
    "            header=4)                 #take the 4th line as the actual column header"
   ]
  },
  {
   "cell_type": "markdown",
   "metadata": {},
   "source": [
    "That's nice, but in general I like to make my own column names, lets do that"
   ]
  },
  {
   "cell_type": "code",
   "execution_count": null,
   "metadata": {
    "collapsed": false
   },
   "outputs": [],
   "source": [
    "pd.read_csv(\"C3Trace00001_DC.txt\",      #the file\n",
    "            sep=',',                    #how is the data separated, in this case it's a comma\n",
    "            skiprows=5,                 #skip rows 0,1,2,3,4\n",
    "            names=['time','amplitude']) #give the 'names' of the columns."
   ]
  },
  {
   "cell_type": "markdown",
   "metadata": {},
   "source": [
    "Great, seems to work. Lets read in both data files into a list and plot it"
   ]
  },
  {
   "cell_type": "code",
   "execution_count": null,
   "metadata": {
    "collapsed": false
   },
   "outputs": [],
   "source": [
    "# Tell python the path to the data files with the os module\n",
    "import os \n",
    "\n",
    "# Use list comprehension (?) to fill a list called files that contains\n",
    "files = [file_ for file_ in os.listdir(\".\") if file_.startswith(\"C3\")]\n",
    "\n",
    "print files"
   ]
  },
  {
   "cell_type": "code",
   "execution_count": null,
   "metadata": {
    "collapsed": true
   },
   "outputs": [],
   "source": [
    "# oscilloscope data frames (list of dataframes)\n",
    "scope_dfs = []\n",
    "for file_ in files:\n",
    "    a = pd.read_csv(file_,   \n",
    "                    sep=',', \n",
    "                    skiprows=5,\n",
    "                    names=['time','amplitude'])\n",
    "    scope_dfs.append(a)\n",
    "\n",
    "# Both data frames now live in a python list"
   ]
  },
  {
   "cell_type": "markdown",
   "metadata": {},
   "source": [
    "This is just for fun but lets get all the data into one place. If I've done the \"measurement\" correctly then we the data should have the same X data -- these are the time divisions on the oscilloscope. Sure enough this is easy in pandas with contatenation of data frames"
   ]
  },
  {
   "cell_type": "code",
   "execution_count": null,
   "metadata": {
    "collapsed": false
   },
   "outputs": [],
   "source": [
    "scope_df =pd.concat(scope_dfs, #list of data frames\n",
    "                    axis=1,     #axis to join on (0==row, 1==column)\n",
    "                    keys=['silicone','pletronics'])\n",
    "scope_df"
   ]
  },
  {
   "cell_type": "markdown",
   "metadata": {},
   "source": [
    "Let's take a look. Pandas has a really nice built in graphing function although I hardly ever us it. It's worth checking out for time series analysis but to be 100% sure what's going on I do it the hard way"
   ]
  },
  {
   "cell_type": "code",
   "execution_count": null,
   "metadata": {
    "collapsed": true
   },
   "outputs": [],
   "source": [
    "%matplotlib inline\n",
    "matplotlib.rcParams['font.size'] = 16\n",
    "matplotlib.rcParams['font.family'] = 'serif'"
   ]
  },
  {
   "cell_type": "code",
   "execution_count": null,
   "metadata": {
    "collapsed": false,
    "scrolled": false
   },
   "outputs": [],
   "source": [
    "fig,ax=plt.subplots(figsize=(10,6))\n",
    "\n",
    "\n",
    "ax.plot(scope_df.pletronics.time,\n",
    "        scope_df.pletronics.amplitude,\n",
    "        '-o',\n",
    "        lw=2,\n",
    "        color='red',\n",
    "        label='Pletronics')\n",
    "\n",
    "ax.plot(scope_df.silicone.time,\n",
    "        scope_df.silicone.amplitude,\n",
    "        '-o',\n",
    "        lw=2,\n",
    "        color='blue',\n",
    "        label='SiLabs')\n",
    "\n",
    "ax.set_xlabel(\"Time [s]\",fontweight='bold')\n",
    "ax.set_ylabel(\"Voltage [V]\",fontweight='bold')\n",
    "ax.set_title(\"LVDS Oscillators\",fontweight='bold')\n",
    "ax.set_ylim(1.0,2)\n",
    "ax.legend()\n",
    "ax.grid()\n",
    "plt.show()"
   ]
  },
  {
   "cell_type": "markdown",
   "metadata": {},
   "source": [
    "Cool! You are looking at two different clocks used by the 156.25 MHz low voltage differential signaling waveform from from actual MicroBooNE readout electronics. This is the \"read clock\" for the optical links between MicroBooNE electronics and the read out computer. \n",
    "\n",
    "Can we verify that the period is what Chi says it is? Sure!"
   ]
  },
  {
   "cell_type": "code",
   "execution_count": null,
   "metadata": {
    "collapsed": false
   },
   "outputs": [],
   "source": [
    "# Lets find a couple of the minimums and see how many \"ticks\" they vary from one another\n",
    "pletronics_df = scope_df.pletronics\n",
    "sorted_amps = pletronics_df.amplitude.values.argsort()\n",
    "\n",
    "fmax1 = sorted_amps[0]\n",
    "fmax2 = sorted_amps[1]"
   ]
  },
  {
   "cell_type": "code",
   "execution_count": null,
   "metadata": {
    "collapsed": false
   },
   "outputs": [],
   "source": [
    "# How many ticks do these maxes differ from one another \n",
    "print fmax2-fmax1"
   ]
  },
  {
   "cell_type": "code",
   "execution_count": null,
   "metadata": {
    "collapsed": false
   },
   "outputs": [],
   "source": [
    "#Which peaks are these?\n",
    "fig,ax=plt.subplots(figsize=(10,6))\n",
    "ax.plot(pletronics_df.time,\n",
    "        pletronics_df.amplitude,'-o',lw=2)\n",
    "ax.axvline(x=pletronics_df.iloc[fmax1].time,color='red',lw=2)\n",
    "ax.axvline(x=pletronics_df.iloc[fmax2].time,color='red',lw=2)\n",
    "plt.show()"
   ]
  },
  {
   "cell_type": "markdown",
   "metadata": {},
   "source": [
    "Looks like one period to me... lets get the frequency"
   ]
  },
  {
   "cell_type": "code",
   "execution_count": null,
   "metadata": {
    "collapsed": false
   },
   "outputs": [],
   "source": [
    "times = pletronics_df.time.values # Get the values as a numpy array\n",
    "period = times[fmax2] - times[fmax1]\n",
    "print\n",
    "print \"Period is {} seconds\".format(period)\n",
    "print\n",
    "print \"Frequency is {} MHz\".format(1/period / 1.0e6)\n",
    "print"
   ]
  },
  {
   "cell_type": "code",
   "execution_count": null,
   "metadata": {
    "collapsed": true
   },
   "outputs": [],
   "source": []
  }
 ],
 "metadata": {
  "kernelspec": {
   "display_name": "Python 2",
   "language": "python",
   "name": "python2"
  },
  "language_info": {
   "codemirror_mode": {
    "name": "ipython",
    "version": 2
   },
   "file_extension": ".py",
   "mimetype": "text/x-python",
   "name": "python",
   "nbconvert_exporter": "python",
   "pygments_lexer": "ipython2",
   "version": "2.7.10"
  }
 },
 "nbformat": 4,
 "nbformat_minor": 0
}
