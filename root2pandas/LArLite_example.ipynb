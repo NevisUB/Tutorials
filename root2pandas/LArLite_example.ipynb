{
 "cells": [
  {
   "cell_type": "markdown",
   "metadata": {
    "collapsed": true
   },
   "source": [
    "# Accessing larlite Data Products (C++ Classes and Their Functions) In Python, and Storing Actual C++ Classes in a DataFrame and Calling their Public Functions!\n",
    "#### Note: you need to \"source config/setup.sh\" from your local larlite install in your terminal before typing \"jupyter notebook blahblah.ipynb\" for this to work. I haven't been able to effectively source this from within a jupyter notebook."
   ]
  },
  {
   "cell_type": "code",
   "execution_count": 1,
   "metadata": {
    "collapsed": true
   },
   "outputs": [],
   "source": [
    "# These imports are actually NOT NEEDED if you already know the name of\n",
    "# the ttree within the root file.\n",
    "from ROOT import TFile, TTree\n",
    "\n",
    "import numpy as np\n",
    "import matplotlib.pylab as plt\n",
    "import pandas as pd\n",
    "\n",
    "%matplotlib inline"
   ]
  },
  {
   "cell_type": "code",
   "execution_count": 2,
   "metadata": {
    "collapsed": true
   },
   "outputs": [],
   "source": [
    "# Sample \"litescanned\" file that I happen to have lying around\n",
    "myfile =  '/Users/davidkaleko/Data/larlite/mcc7_022316/'\n",
    "myfile += 'scan_prod_pi0_0-1.0GeV_isotropic_v1/larlite_mcinfo_all.root'"
   ]
  },
  {
   "cell_type": "code",
   "execution_count": 3,
   "metadata": {
    "collapsed": false
   },
   "outputs": [
    {
     "name": "stdout",
     "output_type": "stream",
     "text": [
      "Things stored in this file are:\n",
      "['larlite_id_tree', 'gtruth_generator_tree', 'mctruth_corsika_tree', 'mctruth_generator_tree', 'mcflux_generator_tree', 'mcshower_mcreco_tree', 'mctrack_mcreco_tree', 'potsummary_generator_tree']\n",
      "\n",
      "# of entries (# of events) stored in the mcshower tree is 5050.\n"
     ]
    }
   ],
   "source": [
    "f = TFile(myfile,\"READ\")\n",
    "# Let's look at what's in the file:\n",
    "print \"Things stored in this file are:\"\n",
    "print [mykey.GetName() for mykey in f.GetListOfKeys()]\n",
    "print\n",
    "print \"# of entries (# of events) stored in the mcshower tree is %d.\" % \\\n",
    "    f.mcshower_mcreco_tree.GetEntries()"
   ]
  },
  {
   "cell_type": "markdown",
   "metadata": {},
   "source": [
    "#### Here I loop over the MCShower TTree, and for each event (each TTree entry) I store both the _actual MCShower object_ and the MCShower's energy in a dataframe for later analysis."
   ]
  },
  {
   "cell_type": "code",
   "execution_count": 4,
   "metadata": {
    "collapsed": false
   },
   "outputs": [],
   "source": [
    "# The only way I've gotten this to work is to \"copy\" the larlite object (the MCShower)\n",
    "# when putting it into a DataFrame. Otherwise things don't work... If you can improve\n",
    "# upon this, please do!\n",
    "import copy\n",
    "\n",
    "mydata = []\n",
    "for ientry in xrange(f.mcshower_mcreco_tree.GetEntries()):\n",
    "    # You must do a \"TTree.GetEntry\" for each event\n",
    "    blah = f.mcshower_mcreco_tree.GetEntry(ientry)\n",
    "    \n",
    "    # The ttree's \"branch\" with the same name is exactly what\n",
    "    # you are used to seeing as \"event_mcshower\" in larlite analysis code\n",
    "    ev_mcs = f.mcshower_mcreco_tree.mcshower_mcreco_branch\n",
    "    \n",
    "    # The size of ev_mcshower is the number of mcshowers in this specific event.\n",
    "    # Here I just require that the event does indeed have at least one MCShower\n",
    "    if not ev_mcs.size(): continue\n",
    "        \n",
    "    # There are many ways to make a dataframe, but one I use is to create a\n",
    "    # list of tuples. The length of the list will be the number of rows in the\n",
    "    # resulting dataframe, and the length of each tuple in the list will be\n",
    "    # the number of columns in the resulting dataframe.\n",
    "    # Note for the actual MCShower object, I use the \"copy\" function from\n",
    "    # the \"copy\" module.\n",
    "    mydata.append( ( copy.copy(ev_mcs.at(0)), ev_mcs.at(0).DetProfile().E() ) )"
   ]
  },
  {
   "cell_type": "code",
   "execution_count": 5,
   "metadata": {
    "collapsed": true
   },
   "outputs": [],
   "source": [
    "# Closing the file for good measure. We already have all the info stored in \"mydata\"\n",
    "f.Close()"
   ]
  },
  {
   "cell_type": "code",
   "execution_count": 6,
   "metadata": {
    "collapsed": false
   },
   "outputs": [],
   "source": [
    "# This is the dataframe function that turns the above list-of-tuples into a dataframe.\n",
    "# Again there are probably better ways to do this (maybe that don't even involve a\n",
    "# for-loop!!)\n",
    "df = pd.DataFrame.from_records(mydata)\n",
    "\n",
    "# Here I'm just naming the columns for my convenience.\n",
    "df.columns = ['MCShower0', 'Shower0Energy']"
   ]
  },
  {
   "cell_type": "code",
   "execution_count": 7,
   "metadata": {
    "collapsed": false
   },
   "outputs": [
    {
     "data": {
      "text/html": [
       "<div style=\"max-height:1000px;max-width:1500px;overflow:auto;\">\n",
       "<table border=\"1\" class=\"dataframe\">\n",
       "  <thead>\n",
       "    <tr style=\"text-align: right;\">\n",
       "      <th></th>\n",
       "      <th>MCShower0</th>\n",
       "      <th>Shower0Energy</th>\n",
       "    </tr>\n",
       "  </thead>\n",
       "  <tbody>\n",
       "    <tr>\n",
       "      <th>0</th>\n",
       "      <td> &lt;ROOT.larlite::mcshower object at 0x7f8ba7441400&gt;</td>\n",
       "      <td> 145.217978</td>\n",
       "    </tr>\n",
       "    <tr>\n",
       "      <th>1</th>\n",
       "      <td> &lt;ROOT.larlite::mcshower object at 0x7f8ba73fde00&gt;</td>\n",
       "      <td>   0.000000</td>\n",
       "    </tr>\n",
       "    <tr>\n",
       "      <th>2</th>\n",
       "      <td> &lt;ROOT.larlite::mcshower object at 0x7f8ba73ff000&gt;</td>\n",
       "      <td>   0.888849</td>\n",
       "    </tr>\n",
       "    <tr>\n",
       "      <th>3</th>\n",
       "      <td> &lt;ROOT.larlite::mcshower object at 0x7f8ba2f86e00&gt;</td>\n",
       "      <td> 148.693843</td>\n",
       "    </tr>\n",
       "    <tr>\n",
       "      <th>4</th>\n",
       "      <td> &lt;ROOT.larlite::mcshower object at 0x7f8ba2f87400&gt;</td>\n",
       "      <td> 583.193069</td>\n",
       "    </tr>\n",
       "  </tbody>\n",
       "</table>\n",
       "</div>"
      ],
      "text/plain": [
       "                                           MCShower0  Shower0Energy\n",
       "0  <ROOT.larlite::mcshower object at 0x7f8ba7441400>     145.217978\n",
       "1  <ROOT.larlite::mcshower object at 0x7f8ba73fde00>       0.000000\n",
       "2  <ROOT.larlite::mcshower object at 0x7f8ba73ff000>       0.888849\n",
       "3  <ROOT.larlite::mcshower object at 0x7f8ba2f86e00>     148.693843\n",
       "4  <ROOT.larlite::mcshower object at 0x7f8ba2f87400>     583.193069"
      ]
     },
     "execution_count": 7,
     "metadata": {},
     "output_type": "execute_result"
    }
   ],
   "source": [
    "df.head()"
   ]
  },
  {
   "cell_type": "code",
   "execution_count": 8,
   "metadata": {
    "collapsed": false
   },
   "outputs": [],
   "source": [
    "# I'm copying the Shower0Energy variable into a numpy array\n",
    "s0E_fromDF = np.array( df['Shower0Energy'] )\n",
    "\n",
    "# Here I define a function to get the energy from the MCShower object:\n",
    "def getE(mcshower_object):\n",
    "    return mcshower_object.DetProfile().E()\n",
    "\n",
    "# Here I vectorize this function because I am going to be calling it once\n",
    "# per row in my dataframe, and I don't want to do a for-loop.\n",
    "# Vectorize is faster!\n",
    "getE_vectorized = np.vectorize(getE)\n",
    "\n",
    "# Here I use the vectorized function to get the MCShower energy from\n",
    "# the actual MCShower objects stored in the dataframe.\n",
    "# It should be the same thing as \"Shower0Energy\"!\n",
    "s0E_fromDataProduct = getE_vectorized(df['MCShower0'])"
   ]
  },
  {
   "cell_type": "code",
   "execution_count": 9,
   "metadata": {
    "collapsed": false
   },
   "outputs": [
    {
     "data": {
      "image/png": "[encoded data removed]",
      "text/plain": [
       "<matplotlib.figure.Figure at 0x117c05bd0>"
      ]
     },
     "metadata": {},
     "output_type": "display_data"
    },
    {
     "data": {
      "image/png": "[encoded data removed]",
      "text/plain": [
       "<matplotlib.figure.Figure at 0x1161a08d0>"
      ]
     },
     "metadata": {},
     "output_type": "display_data"
    }
   ],
   "source": [
    "plt.figure(figsize=(10,6))\n",
    "plt.grid(True) #ALWAYS TRUE\n",
    "mybins = np.linspace(0,1000,100)\n",
    "plt.title(\"Shower 0 DetProfile Energy: From Float In DF\")\n",
    "poop = plt.hist(s0E_fromDF,bins=mybins,color='blue')\n",
    "plt.figure(figsize=(10,6))\n",
    "plt.grid(True) #ALWAYS TRUE\n",
    "plt.title(\"Shower 0 DetProfile Energy: From Actual Data Product in DF\")\n",
    "poop = plt.hist(s0E_fromDataProduct,bins=mybins,color='red')"
   ]
  },
  {
   "cell_type": "code",
   "execution_count": null,
   "metadata": {
    "collapsed": true
   },
   "outputs": [],
   "source": []
  }
 ],
 "metadata": {
  "kernelspec": {
   "display_name": "Python 2",
   "language": "python",
   "name": "python2"
  },
  "language_info": {
   "codemirror_mode": {
    "name": "ipython",
    "version": 2
   },
   "file_extension": ".py",
   "mimetype": "text/x-python",
   "name": "python",
   "nbconvert_exporter": "python",
   "pygments_lexer": "ipython2",
   "version": "2.7.5"
  }
 },
 "nbformat": 4,
 "nbformat_minor": 0
}
