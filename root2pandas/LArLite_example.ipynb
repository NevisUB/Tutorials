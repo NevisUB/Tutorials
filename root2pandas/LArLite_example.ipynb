{
 "cells": [
  {
   "cell_type": "markdown",
   "metadata": {
    "collapsed": true
   },
   "source": [
    "# Accessing larlite Data Products (C++ Classes and Their Functions) In Python\n",
    "#### Note: you need to \"source config/setup.sh\" from your local larlite install in your terminal before typing \"jupyter notebook blahblah.ipynb\" for this to work. I haven't been able to effectively source this from within a jupyter notebook."
   ]
  },
  {
   "cell_type": "code",
   "execution_count": 1,
   "metadata": {
    "collapsed": true
   },
   "outputs": [],
   "source": [
    "# These imports are actually NOT NEEDED if you already know the name of\n",
    "# the ttree within the root file.\n",
    "from ROOT import TFile, TTree\n",
    "\n",
    "#import numpy as np\n",
    "#import matplotlib.pylab as plt\n",
    "import pandas as pd"
   ]
  },
  {
   "cell_type": "code",
   "execution_count": 2,
   "metadata": {
    "collapsed": false
   },
   "outputs": [],
   "source": [
    "# This was my attempt to source config/setup.sh that doesn't end up working\n",
    "#!source /Users/davidkaleko/larlite/config/setup.sh"
   ]
  },
  {
   "cell_type": "code",
   "execution_count": 3,
   "metadata": {
    "collapsed": true
   },
   "outputs": [],
   "source": [
    "# Sample \"litescanned\" file that I happen to have lying around\n",
    "myfile =  '/Users/davidkaleko/Data/larlite/mcc7_022316/'\n",
    "myfile += 'scan_prod_pi0_0-1.0GeV_isotropic_v1/larlite_mcinfo_all.root'"
   ]
  },
  {
   "cell_type": "code",
   "execution_count": 4,
   "metadata": {
    "collapsed": false
   },
   "outputs": [
    {
     "name": "stdout",
     "output_type": "stream",
     "text": [
      "Things stored in this file are:\n",
      "['larlite_id_tree', 'gtruth_generator_tree', 'mctruth_corsika_tree', 'mctruth_generator_tree', 'mcflux_generator_tree', 'mcshower_mcreco_tree', 'mctrack_mcreco_tree', 'potsummary_generator_tree']\n",
      "\n",
      "# of entries (# of events) stored in the mcshower tree is 5050.\n"
     ]
    }
   ],
   "source": [
    "f = TFile(myfile,\"READ\")\n",
    "# Let's look at what's in the file:\n",
    "print \"Things stored in this file are:\"\n",
    "print [mykey.GetName() for mykey in f.GetListOfKeys()]\n",
    "print\n",
    "print \"# of entries (# of events) stored in the mcshower tree is %d.\" % \\\n",
    "    f.mcshower_mcreco_tree.GetEntries()"
   ]
  },
  {
   "cell_type": "markdown",
   "metadata": {},
   "source": [
    "#### This is almost certainly NOT the best way to do this but it's how I currently do things. Here I loop over the mcshower ttree, and for each event (each TTree entry) I require there are exactly two mcshowers. For those events with 2 mcshowers, I store each shower's deposited energy, then put those into a dataframe with two columns for later analysis."
   ]
  },
  {
   "cell_type": "code",
   "execution_count": 5,
   "metadata": {
    "collapsed": false
   },
   "outputs": [],
   "source": [
    "mydata = []\n",
    "for ientry in xrange(f.mcshower_mcreco_tree.GetEntries()):\n",
    "    # You must do a \"TTree.GetEntry\" for each event\n",
    "    blah = f.mcshower_mcreco_tree.GetEntry(ientry)\n",
    "    # The ttree's \"branch\" with the same name is exactly what\n",
    "    # you are used to seeing as \"event_mcshower\" in larlite analysis code\n",
    "    ev_mcs = f.mcshower_mcreco_tree.mcshower_mcreco_branch\n",
    "    # The size of ev_mcshower is the number of mcshowers in this specific event.\n",
    "    if ev_mcs.size() != 2: continue\n",
    "    # There are many ways to make a dataframe, but one I use is to create a\n",
    "    # list of tuples. The length of the list will be the number of rows in the\n",
    "    # resulting dataframe, and the length of each tuple in the list will be\n",
    "    # the number of columns in the resulting dataframe.\n",
    "    mydata.append( ( ev_mcs.at(0).DetProfile().E(), ev_mcs.at(1).DetProfile().E() ) )"
   ]
  },
  {
   "cell_type": "code",
   "execution_count": 6,
   "metadata": {
    "collapsed": false
   },
   "outputs": [],
   "source": [
    "# This is the dataframe function that turns the above list-of-tuples into a dataframe.\n",
    "# Again there are probably better ways to do this (maybe that don't even involve a\n",
    "# for-loop!!)\n",
    "df = pd.DataFrame.from_records(mydata)\n",
    "\n",
    "# Here I'm just naming the columns for my convenience.\n",
    "df.columns = ['Shower1Energy', 'Shower2Energy']"
   ]
  },
  {
   "cell_type": "code",
   "execution_count": 7,
   "metadata": {
    "collapsed": false
   },
   "outputs": [
    {
     "data": {
      "text/html": [
       "<div style=\"max-height:1000px;max-width:1500px;overflow:auto;\">\n",
       "<table border=\"1\" class=\"dataframe\">\n",
       "  <thead>\n",
       "    <tr style=\"text-align: right;\">\n",
       "      <th></th>\n",
       "      <th>Shower1Energy</th>\n",
       "      <th>Shower2Energy</th>\n",
       "    </tr>\n",
       "  </thead>\n",
       "  <tbody>\n",
       "    <tr>\n",
       "      <th>0</th>\n",
       "      <td> 145.217978</td>\n",
       "      <td> 356.169564</td>\n",
       "    </tr>\n",
       "    <tr>\n",
       "      <th>1</th>\n",
       "      <td>   0.000000</td>\n",
       "      <td>  90.938522</td>\n",
       "    </tr>\n",
       "    <tr>\n",
       "      <th>2</th>\n",
       "      <td>   0.888849</td>\n",
       "      <td> 696.780593</td>\n",
       "    </tr>\n",
       "    <tr>\n",
       "      <th>3</th>\n",
       "      <td> 583.193069</td>\n",
       "      <td> 110.480748</td>\n",
       "    </tr>\n",
       "    <tr>\n",
       "      <th>4</th>\n",
       "      <td>  29.060985</td>\n",
       "      <td> 115.345036</td>\n",
       "    </tr>\n",
       "  </tbody>\n",
       "</table>\n",
       "</div>"
      ],
      "text/plain": [
       "   Shower1Energy  Shower2Energy\n",
       "0     145.217978     356.169564\n",
       "1       0.000000      90.938522\n",
       "2       0.888849     696.780593\n",
       "3     583.193069     110.480748\n",
       "4      29.060985     115.345036"
      ]
     },
     "execution_count": 7,
     "metadata": {},
     "output_type": "execute_result"
    }
   ],
   "source": [
    "df.head()"
   ]
  },
  {
   "cell_type": "code",
   "execution_count": null,
   "metadata": {
    "collapsed": true
   },
   "outputs": [],
   "source": []
  }
 ],
 "metadata": {
  "kernelspec": {
   "display_name": "Python 2",
   "language": "python",
   "name": "python2"
  },
  "language_info": {
   "codemirror_mode": {
    "name": "ipython",
    "version": 2
   },
   "file_extension": ".py",
   "mimetype": "text/x-python",
   "name": "python",
   "nbconvert_exporter": "python",
   "pygments_lexer": "ipython2",
   "version": "2.7.5"
  }
 },
 "nbformat": 4,
 "nbformat_minor": 0
}
